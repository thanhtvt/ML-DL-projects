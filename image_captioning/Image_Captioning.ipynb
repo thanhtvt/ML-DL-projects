{
  "nbformat": 4,
  "nbformat_minor": 0,
  "metadata": {
    "colab": {
      "name": "Image_Captioning.ipynb",
      "provenance": [],
      "collapsed_sections": []
    },
    "kernelspec": {
      "name": "python3",
      "display_name": "Python 3"
    },
    "language_info": {
      "name": "python"
    },
    "accelerator": "GPU",
    "widgets": {
      "application/vnd.jupyter.widget-state+json": {
        "3e8d9460e5084688a9e6d3b629a3ae2b": {
          "model_module": "@jupyter-widgets/controls",
          "model_name": "HBoxModel",
          "state": {
            "_view_name": "HBoxView",
            "_dom_classes": [],
            "_model_name": "HBoxModel",
            "_view_module": "@jupyter-widgets/controls",
            "_model_module_version": "1.5.0",
            "_view_count": null,
            "_view_module_version": "1.5.0",
            "box_style": "",
            "layout": "IPY_MODEL_6d96f6d8494442e3b20d605360216766",
            "_model_module": "@jupyter-widgets/controls",
            "children": [
              "IPY_MODEL_28ec0caf9f8546afa5f8a73309dc5fb8",
              "IPY_MODEL_2ea826c0c2f3435aa36efd403a06a496"
            ]
          }
        },
        "6d96f6d8494442e3b20d605360216766": {
          "model_module": "@jupyter-widgets/base",
          "model_name": "LayoutModel",
          "state": {
            "_view_name": "LayoutView",
            "grid_template_rows": null,
            "right": null,
            "justify_content": null,
            "_view_module": "@jupyter-widgets/base",
            "overflow": null,
            "_model_module_version": "1.2.0",
            "_view_count": null,
            "flex_flow": null,
            "width": null,
            "min_width": null,
            "border": null,
            "align_items": null,
            "bottom": null,
            "_model_module": "@jupyter-widgets/base",
            "top": null,
            "grid_column": null,
            "overflow_y": null,
            "overflow_x": null,
            "grid_auto_flow": null,
            "grid_area": null,
            "grid_template_columns": null,
            "flex": null,
            "_model_name": "LayoutModel",
            "justify_items": null,
            "grid_row": null,
            "max_height": null,
            "align_content": null,
            "visibility": null,
            "align_self": null,
            "height": null,
            "min_height": null,
            "padding": null,
            "grid_auto_rows": null,
            "grid_gap": null,
            "max_width": null,
            "order": null,
            "_view_module_version": "1.2.0",
            "grid_template_areas": null,
            "object_position": null,
            "object_fit": null,
            "grid_auto_columns": null,
            "margin": null,
            "display": null,
            "left": null
          }
        },
        "28ec0caf9f8546afa5f8a73309dc5fb8": {
          "model_module": "@jupyter-widgets/controls",
          "model_name": "FloatProgressModel",
          "state": {
            "_view_name": "ProgressView",
            "style": "IPY_MODEL_5ca67bc9c6854d38a0e3f06032c61a48",
            "_dom_classes": [],
            "description": "",
            "_model_name": "FloatProgressModel",
            "bar_style": "success",
            "max": 1,
            "_view_module": "@jupyter-widgets/controls",
            "_model_module_version": "1.5.0",
            "value": 1,
            "_view_count": null,
            "_view_module_version": "1.5.0",
            "orientation": "horizontal",
            "min": 0,
            "description_tooltip": null,
            "_model_module": "@jupyter-widgets/controls",
            "layout": "IPY_MODEL_10587c5c748b4a5cbf68925738e0166b"
          }
        },
        "2ea826c0c2f3435aa36efd403a06a496": {
          "model_module": "@jupyter-widgets/controls",
          "model_name": "HTMLModel",
          "state": {
            "_view_name": "HTMLView",
            "style": "IPY_MODEL_ce285c5a5d70461188a7f3a2cec6898b",
            "_dom_classes": [],
            "description": "",
            "_model_name": "HTMLModel",
            "placeholder": "​",
            "_view_module": "@jupyter-widgets/controls",
            "_model_module_version": "1.5.0",
            "value": " 400000/? [00:22&lt;00:00, 17893.09it/s]",
            "_view_count": null,
            "_view_module_version": "1.5.0",
            "description_tooltip": null,
            "_model_module": "@jupyter-widgets/controls",
            "layout": "IPY_MODEL_9d22d16a7dc349a196e9e7a9d133da5e"
          }
        },
        "5ca67bc9c6854d38a0e3f06032c61a48": {
          "model_module": "@jupyter-widgets/controls",
          "model_name": "ProgressStyleModel",
          "state": {
            "_view_name": "StyleView",
            "_model_name": "ProgressStyleModel",
            "description_width": "initial",
            "_view_module": "@jupyter-widgets/base",
            "_model_module_version": "1.5.0",
            "_view_count": null,
            "_view_module_version": "1.2.0",
            "bar_color": null,
            "_model_module": "@jupyter-widgets/controls"
          }
        },
        "10587c5c748b4a5cbf68925738e0166b": {
          "model_module": "@jupyter-widgets/base",
          "model_name": "LayoutModel",
          "state": {
            "_view_name": "LayoutView",
            "grid_template_rows": null,
            "right": null,
            "justify_content": null,
            "_view_module": "@jupyter-widgets/base",
            "overflow": null,
            "_model_module_version": "1.2.0",
            "_view_count": null,
            "flex_flow": null,
            "width": null,
            "min_width": null,
            "border": null,
            "align_items": null,
            "bottom": null,
            "_model_module": "@jupyter-widgets/base",
            "top": null,
            "grid_column": null,
            "overflow_y": null,
            "overflow_x": null,
            "grid_auto_flow": null,
            "grid_area": null,
            "grid_template_columns": null,
            "flex": null,
            "_model_name": "LayoutModel",
            "justify_items": null,
            "grid_row": null,
            "max_height": null,
            "align_content": null,
            "visibility": null,
            "align_self": null,
            "height": null,
            "min_height": null,
            "padding": null,
            "grid_auto_rows": null,
            "grid_gap": null,
            "max_width": null,
            "order": null,
            "_view_module_version": "1.2.0",
            "grid_template_areas": null,
            "object_position": null,
            "object_fit": null,
            "grid_auto_columns": null,
            "margin": null,
            "display": null,
            "left": null
          }
        },
        "ce285c5a5d70461188a7f3a2cec6898b": {
          "model_module": "@jupyter-widgets/controls",
          "model_name": "DescriptionStyleModel",
          "state": {
            "_view_name": "StyleView",
            "_model_name": "DescriptionStyleModel",
            "description_width": "",
            "_view_module": "@jupyter-widgets/base",
            "_model_module_version": "1.5.0",
            "_view_count": null,
            "_view_module_version": "1.2.0",
            "_model_module": "@jupyter-widgets/controls"
          }
        },
        "9d22d16a7dc349a196e9e7a9d133da5e": {
          "model_module": "@jupyter-widgets/base",
          "model_name": "LayoutModel",
          "state": {
            "_view_name": "LayoutView",
            "grid_template_rows": null,
            "right": null,
            "justify_content": null,
            "_view_module": "@jupyter-widgets/base",
            "overflow": null,
            "_model_module_version": "1.2.0",
            "_view_count": null,
            "flex_flow": null,
            "width": null,
            "min_width": null,
            "border": null,
            "align_items": null,
            "bottom": null,
            "_model_module": "@jupyter-widgets/base",
            "top": null,
            "grid_column": null,
            "overflow_y": null,
            "overflow_x": null,
            "grid_auto_flow": null,
            "grid_area": null,
            "grid_template_columns": null,
            "flex": null,
            "_model_name": "LayoutModel",
            "justify_items": null,
            "grid_row": null,
            "max_height": null,
            "align_content": null,
            "visibility": null,
            "align_self": null,
            "height": null,
            "min_height": null,
            "padding": null,
            "grid_auto_rows": null,
            "grid_gap": null,
            "max_width": null,
            "order": null,
            "_view_module_version": "1.2.0",
            "grid_template_areas": null,
            "object_position": null,
            "object_fit": null,
            "grid_auto_columns": null,
            "margin": null,
            "display": null,
            "left": null
          }
        }
      }
    }
  },
  "cells": [
    {
      "cell_type": "markdown",
      "metadata": {
        "id": "PB0_-lAgkwct"
      },
      "source": [
        "# 1. Import necessary library and data  \n",
        "This colab notebook uses Flickr 8k dataset and .txt files that contain filepath to each kind of dataset (i.e. train, validate, test) which you can download from [here](https://drive.google.com/file/d/1Jr9K1L-grIC5UQjff4UPN5A29aJL86cn/view?usp=sharing)  \n",
        "\n",
        "This dataset contains 8000 images with 5 captions each. These images are divided as follow:  \n",
        "* Training set: 6000 images\n",
        "* Validate set: 1000 images\n",
        "* Test set: 1000 images"
      ]
    },
    {
      "cell_type": "code",
      "metadata": {
        "id": "KjX0AG0SaWop"
      },
      "source": [
        "import os\n",
        "import random\n",
        "import string\n",
        "import numpy as np\n",
        "import pandas as pd\n",
        "import matplotlib.pyplot as plt\n",
        "\n",
        "from pickle import dump, load\n",
        "from tqdm.notebook import tqdm\n",
        "from PIL import Image\n",
        "from keras.preprocessing import sequence\n",
        "from keras.preprocessing.image import load_img, img_to_array\n",
        "from keras.models import load_model, Sequential, Model\n",
        "from keras.layers import Input, LSTM, Embedding, Dense, Dropout\n",
        "from keras.layers.merge import add\n",
        "from keras.applications.inception_v3 import InceptionV3, preprocess_input\n",
        "from keras.preprocessing.sequence import pad_sequences\n",
        "from tensorflow.keras.utils import to_categorical, plot_model"
      ],
      "execution_count": null,
      "outputs": []
    },
    {
      "cell_type": "code",
      "metadata": {
        "colab": {
          "base_uri": "https://localhost:8080/"
        },
        "id": "TovZcRa7scs_",
        "outputId": "06684b60-6a48-4f20-d5b0-11cf790de0f0"
      },
      "source": [
        "from google.colab import drive\n",
        "drive.mount('/content/drive')"
      ],
      "execution_count": null,
      "outputs": [
        {
          "output_type": "stream",
          "text": [
            "Mounted at /content/drive\n"
          ],
          "name": "stdout"
        }
      ]
    },
    {
      "cell_type": "code",
      "metadata": {
        "id": "KSozKfkP0lt7"
      },
      "source": [
        "!unzip /content/drive/MyDrive/Colab_data/image_captioning_dataset/image_captioning.zip -d /content/data"
      ],
      "execution_count": null,
      "outputs": []
    },
    {
      "cell_type": "markdown",
      "metadata": {
        "id": "-IVg9jzknBVj"
      },
      "source": [
        "# 2. Load data  "
      ]
    },
    {
      "cell_type": "markdown",
      "metadata": {
        "id": "VKYX7yu2nOMR"
      },
      "source": [
        "The file \"Flickr8k.token.txt\" contains the name of each image along with its 5 captions. We can read this file as below  \n",
        "As you can see, every line contains the <image name\\>#i <caption\\> (0 <= i <= 4)"
      ]
    },
    {
      "cell_type": "code",
      "metadata": {
        "colab": {
          "base_uri": "https://localhost:8080/"
        },
        "id": "zSCSpz3ihffE",
        "outputId": "c624b612-79d4-4fdd-f10b-dfe701b238a8"
      },
      "source": [
        "# Read caption file\n",
        "def load_doc(filename):\n",
        "    # Open file name as read only\n",
        "    file = open(filename, 'r')\n",
        "\n",
        "    # Read all text\n",
        "    text = file.read()\n",
        "    file.close()\n",
        "\n",
        "    return text\n",
        "\n",
        "filename = '/content/data/Flickr8k/Flickr8k_text/Flickr8k.token.txt'\n",
        "doc = load_doc(filename)\n",
        "print(doc[:300])"
      ],
      "execution_count": null,
      "outputs": [
        {
          "output_type": "stream",
          "text": [
            "1000268201_693b08cb0e.jpg#0\tA child in a pink dress is climbing up a set of stairs in an entry way .\n",
            "1000268201_693b08cb0e.jpg#1\tA girl going into a wooden building .\n",
            "1000268201_693b08cb0e.jpg#2\tA little girl climbing into a wooden playhouse .\n",
            "1000268201_693b08cb0e.jpg#3\tA little girl climbing the s\n"
          ],
          "name": "stdout"
        }
      ]
    },
    {
      "cell_type": "markdown",
      "metadata": {
        "id": "YSTvBmkYox05"
      },
      "source": [
        "Now we create a dictionary named \"descriptions\" which contains the **name of the image** (without the .jpg postfix) as keys and a **list of 5 captions** as values"
      ]
    },
    {
      "cell_type": "code",
      "metadata": {
        "id": "CL4I46Sykd_8",
        "colab": {
          "base_uri": "https://localhost:8080/"
        },
        "outputId": "a29a7734-3756-43b0-c9fc-5acbf1a09f9c"
      },
      "source": [
        "# Save caption key - value\n",
        "def load_description(doc):\n",
        "    mapping = dict()\n",
        "    for line in doc.split('\\n'):\n",
        "        # Split by white space\n",
        "        tokens = line.split()\n",
        "\n",
        "        # When finish reading\n",
        "        if len(line) < 2:\n",
        "            continue\n",
        "\n",
        "        # Take first token as image id, rest as the description\n",
        "        image_id, image_desc = tokens[0], tokens[1:]\n",
        "\n",
        "        # Extract filename from image id\n",
        "        image_id = image_id.split('.')[0]\n",
        "\n",
        "        # Convert description tokens back to string\n",
        "        image_desc = ' '.join(image_desc)\n",
        "\n",
        "        # Create the list (in case a picture having multiple captions)\n",
        "        if image_id not in mapping:\n",
        "            mapping[image_id] = list()\n",
        "\n",
        "        # Store description\n",
        "        mapping[image_id].append(image_desc)\n",
        "    \n",
        "    return mapping\n",
        "\n",
        "descriptions = load_description(doc)\n",
        "print('Loaded: ' + str(len(descriptions)))"
      ],
      "execution_count": null,
      "outputs": [
        {
          "output_type": "stream",
          "text": [
            "Loaded: 8092\n"
          ],
          "name": "stdout"
        }
      ]
    },
    {
      "cell_type": "code",
      "metadata": {
        "colab": {
          "base_uri": "https://localhost:8080/"
        },
        "id": "QahkDrE1OmX_",
        "outputId": "4c13b077-ea46-466a-bebb-b652f1b1b047"
      },
      "source": [
        "descriptions['1000268201_693b08cb0e']"
      ],
      "execution_count": null,
      "outputs": [
        {
          "output_type": "execute_result",
          "data": {
            "text/plain": [
              "['A child in a pink dress is climbing up a set of stairs in an entry way .',\n",
              " 'A girl going into a wooden building .',\n",
              " 'A little girl climbing into a wooden playhouse .',\n",
              " 'A little girl climbing the stairs to her playhouse .',\n",
              " 'A little girl in a pink dress going into a wooden cabin .']"
            ]
          },
          "metadata": {
            "tags": []
          },
          "execution_count": 6
        }
      ]
    },
    {
      "cell_type": "markdown",
      "metadata": {
        "id": "ogOlVZm3pkc0"
      },
      "source": [
        "# 3. Data cleaning  \n",
        "After dealing with text, we generally **clean the data**. Some tasks like:\n",
        "* Lower-case all the words (Hello -> hello)\n",
        "* Remove punctuation \n",
        "* Remove hanging character \n",
        "* Remove special tokens\n",
        "* Remove texts containing numbers"
      ]
    },
    {
      "cell_type": "code",
      "metadata": {
        "id": "b6fQmCfdOn_F"
      },
      "source": [
        "# Preprocessing text\n",
        "def clean_descriptions(descriptions):\n",
        "    # Removing punctuation table\n",
        "    table = str.maketrans('', '', string.punctuation)\n",
        "    for key, desc_list in descriptions.items():\n",
        "        for i in range(len(desc_list)):\n",
        "            desc = desc_list[i]\n",
        "            desc = desc.split()\n",
        "            # Lower words\n",
        "            desc = [word.lower() for word in desc]\n",
        "            # Remove punctuation\n",
        "            desc = [w.translate(table) for w in desc]\n",
        "            # Remove hanging character\n",
        "            desc = [w for w in desc if len(w) > 1]\n",
        "            # Remove tokens with numbers in them\n",
        "            desc = [w for w in desc if w.isalpha()]\n",
        "            # Store as string\n",
        "            desc_list[i] = ' '.join(desc)\n",
        "\n",
        "clean_descriptions(descriptions)"
      ],
      "execution_count": null,
      "outputs": []
    },
    {
      "cell_type": "code",
      "metadata": {
        "colab": {
          "base_uri": "https://localhost:8080/"
        },
        "id": "WtoKHqvHQso5",
        "outputId": "328f5220-4733-4f21-db7e-fb77257b9a78"
      },
      "source": [
        "descriptions['1000268201_693b08cb0e']"
      ],
      "execution_count": null,
      "outputs": [
        {
          "output_type": "execute_result",
          "data": {
            "text/plain": [
              "['child in pink dress is climbing up set of stairs in an entry way',\n",
              " 'girl going into wooden building',\n",
              " 'little girl climbing into wooden playhouse',\n",
              " 'little girl climbing the stairs to her playhouse',\n",
              " 'little girl in pink dress going into wooden cabin']"
            ]
          },
          "metadata": {
            "tags": []
          },
          "execution_count": 8
        }
      ]
    },
    {
      "cell_type": "markdown",
      "metadata": {
        "id": "1cxtL6E5qfKD"
      },
      "source": [
        "**Save** all these cleaned captions along with their image names in new file \"descriptions.txt\""
      ]
    },
    {
      "cell_type": "code",
      "metadata": {
        "id": "i03LlQTfTQkH"
      },
      "source": [
        "# Save descriptions\n",
        "def save_descriptions(descriptions, filename):\n",
        "    lines = list()\n",
        "    for key, desc_list in descriptions.items():\n",
        "        for desc in desc_list:\n",
        "            lines.append(key + ' ' + desc)\n",
        "    data = '\\n'.join(lines)\n",
        "    file = open(filename, 'w')\n",
        "    file.write(data)\n",
        "    file.close()\n",
        "\n",
        "save_descriptions(descriptions, '/content/data/descriptions.txt')"
      ],
      "execution_count": null,
      "outputs": []
    },
    {
      "cell_type": "markdown",
      "metadata": {
        "id": "m6AjYUEvrD4r"
      },
      "source": [
        "# 4. Loading the training set  \n",
        "The text file “Flickr_8k.trainImages.txt” contains the names of the images that belong to the training set. So we **load these names into a list “train\"**"
      ]
    },
    {
      "cell_type": "code",
      "metadata": {
        "colab": {
          "base_uri": "https://localhost:8080/"
        },
        "id": "iZgyJVEZUMNN",
        "outputId": "0a31e2b1-1bb0-4d1c-c684-de8b40f28573"
      },
      "source": [
        "def load_set(filename):\n",
        "    doc = load_doc(filename)\n",
        "    dataset = list()\n",
        "    for line in doc.split('\\n'):\n",
        "        # When finish reading\n",
        "        if len(line) < 2:\n",
        "            continue\n",
        "        # Get image identifier\n",
        "        identifier = line.split('.')[0]\n",
        "        dataset.append(identifier)\n",
        "    return set(dataset)\n",
        "\n",
        "# Load training dataset\n",
        "filename = '/content/data/Flickr8k/Flickr8k_text/Flickr_8k.trainImages.txt'\n",
        "train = load_set(filename)\n",
        "print('Dataset:', len(train))"
      ],
      "execution_count": null,
      "outputs": [
        {
          "output_type": "stream",
          "text": [
            "Dataset: 6000\n"
          ],
          "name": "stdout"
        }
      ]
    },
    {
      "cell_type": "markdown",
      "metadata": {
        "id": "KPSS_QxvFqnG"
      },
      "source": [
        "Load names of images into \"train_img\" and \"test_img\" for later use"
      ]
    },
    {
      "cell_type": "code",
      "metadata": {
        "id": "vpBc4wLwVPYW"
      },
      "source": [
        "images_path = '/content/data/Flickr8k/Flicker8k_Dataset'\n",
        "img = os.listdir(images_path)"
      ],
      "execution_count": null,
      "outputs": []
    },
    {
      "cell_type": "code",
      "metadata": {
        "id": "Vb2jMUT9bwRm"
      },
      "source": [
        "def get_img(path):\n",
        "    # Read images name\n",
        "    imgs = set(open(path, 'r').read().split('\\n'))\n",
        "\n",
        "    ret_img = []\n",
        "    # Add images\n",
        "    for filepath in img:\n",
        "        if filepath in imgs:\n",
        "            ret_img.append(filepath)\n",
        "\n",
        "    return ret_img\n",
        "\n",
        "# File path\n",
        "train_path = '/content/data/Flickr8k/Flickr8k_text/Flickr_8k.trainImages.txt'\n",
        "test_path = '/content/data/Flickr8k/Flickr8k_text/Flickr_8k.testImages.txt'\n",
        "\n",
        "train_img = get_img(train_path)\n",
        "test_img = get_img(test_path)\n",
        "\n",
        "print('Length of training - validation - testing dataset: {} - {}'.format(len(train_img), len(test_img)))"
      ],
      "execution_count": null,
      "outputs": []
    },
    {
      "cell_type": "markdown",
      "metadata": {
        "id": "SCYKjcQpF7B0"
      },
      "source": [
        "Add tokens in 2 ends of each caption (for training) as follow:\n",
        "- '**startseq**': This is a start sequence token added at the start of every captions\n",
        "- '**endseq**': This is an end sequence token added at the end of every captions\n",
        "\n",
        "After adding tokens, store captions in dictionary \"**train_descriptions**\""
      ]
    },
    {
      "cell_type": "code",
      "metadata": {
        "colab": {
          "base_uri": "https://localhost:8080/"
        },
        "id": "YYLK1kNnZoEC",
        "outputId": "ed3c166b-9f71-46ae-a410-a0343d06afb5"
      },
      "source": [
        "# Add 'startseq', 'endseq' at head and last of string\n",
        "def load_clean_descriptions(filename, dataset):\n",
        "    doc = load_doc(filename)\n",
        "    descriptions = dict()\n",
        "    for line in doc.split('\\n'):\n",
        "        tokens = line.split()\n",
        "        img_id, img_desc = tokens[0], tokens[1:]\n",
        "        if img_id in dataset:\n",
        "            if img_id not in descriptions:\n",
        "                descriptions[img_id] = list()\n",
        "\n",
        "            # Wrap description in tokens\n",
        "            desc = 'startseq ' + ' '.join(img_desc) + ' endseq'\n",
        "            descriptions[img_id].append(desc)\n",
        "    return descriptions\n",
        "\n",
        "train_descriptions = load_clean_descriptions('/content/data/descriptions.txt', train)\n",
        "print('Description:', len(train_descriptions))"
      ],
      "execution_count": null,
      "outputs": [
        {
          "output_type": "stream",
          "text": [
            "Description: 6000\n"
          ],
          "name": "stdout"
        }
      ]
    },
    {
      "cell_type": "markdown",
      "metadata": {
        "id": "KN6hwjG8HeGV"
      },
      "source": [
        "# 5. Data preprocessing  \n",
        "At this step, we preprocess captions and images which are the input of our training model."
      ]
    },
    {
      "cell_type": "markdown",
      "metadata": {
        "id": "Fs91eIWPHpGp"
      },
      "source": [
        "## 5.1. Preprocessing Images  \n",
        "We need to convert every images into a fixed sized vector which can then be fed as input to the NN. For this purpose, we use **transfer learning** by using the InceptionV3 model created by Google Teams (you can read and practice in [here](https://paperswithcode.com/method/inception-v3)). The model was trained on Imagenet dataset to perform image classification on 1000 different classes of images.\n",
        "\n",
        "The cell below here preprocess input into array with fixed size that fit model input"
      ]
    },
    {
      "cell_type": "code",
      "metadata": {
        "id": "GPw0MjE_aFG6"
      },
      "source": [
        "# Load and resize images to fit INceptionV3's input size\n",
        "def preprocess(image_path):\n",
        "    # Convert to desired size\n",
        "    img = load_img(image_path, target_size=(299, 299))\n",
        "    img = img_to_array(img)\n",
        "    img = np.expand_dims(img, axis=0)\n",
        "    # Preprocess images using function from inception module\n",
        "    img = preprocess_input(img)\n",
        "    \n",
        "    return img"
      ],
      "execution_count": null,
      "outputs": []
    },
    {
      "cell_type": "code",
      "metadata": {
        "colab": {
          "base_uri": "https://localhost:8080/"
        },
        "id": "RnM6UUFictAf",
        "outputId": "3f561bb5-2131-4577-b404-b0e6ecda0117"
      },
      "source": [
        "# Load InceptionV3 model\n",
        "model = InceptionV3(weights='imagenet')"
      ],
      "execution_count": null,
      "outputs": [
        {
          "output_type": "stream",
          "text": [
            "Downloading data from https://storage.googleapis.com/tensorflow/keras-applications/inception_v3/inception_v3_weights_tf_dim_ordering_tf_kernels.h5\n",
            "96116736/96112376 [==============================] - 1s 0us/step\n",
            "96124928/96112376 [==============================] - 1s 0us/step\n"
          ],
          "name": "stdout"
        }
      ]
    },
    {
      "cell_type": "markdown",
      "metadata": {
        "id": "cUZj1dZfJj-t"
      },
      "source": [
        "Here we remove the last softmax layer from the model and extract a (2048,) vector for every image  \n",
        "The illustrator for this process:\n",
        "![images](https://i.imgur.com/04UBVKS.png)"
      ]
    },
    {
      "cell_type": "code",
      "metadata": {
        "id": "iKf3zOg0d1kM"
      },
      "source": [
        "# Remove last layer of InceptionV3\n",
        "model_new = Model(inputs=model.input, outputs=model.layers[-2].output)"
      ],
      "execution_count": null,
      "outputs": []
    },
    {
      "cell_type": "markdown",
      "metadata": {
        "id": "zxcyIyJIKnjQ"
      },
      "source": [
        "Now we pass every images to this model to get the corresponding feature size of (2048,)"
      ]
    },
    {
      "cell_type": "code",
      "metadata": {
        "id": "NGT2xr1leMFU"
      },
      "source": [
        "# Image embedding to vector (2048,)\n",
        "def encode(image):\n",
        "    # Preprocess image\n",
        "    image = preprocess(image)\n",
        "    # Get the encoding vector \n",
        "    fea_vec = model_new.predict(image)\n",
        "    # Reshape from (1, 2048) to (2048,)\n",
        "    fea_vec = np.reshape(fea_vec, fea_vec.shape[1])\n",
        "    \n",
        "    return fea_vec"
      ],
      "execution_count": null,
      "outputs": []
    },
    {
      "cell_type": "code",
      "metadata": {
        "id": "aA5GFMyxcUac"
      },
      "source": [
        "def encoding_images(imgs):\n",
        "    encoding_img = {}\n",
        "\n",
        "    for path in tqdm(imgs):\n",
        "        encoding_img[path] = encode(images_path + '/' + path)\n",
        "\n",
        "    return encoding_img\n",
        "\n",
        "encoding_train = encoding_images(train_img)\n",
        "encoding_test = encoding_images(test_img)"
      ],
      "execution_count": null,
      "outputs": []
    },
    {
      "cell_type": "markdown",
      "metadata": {
        "id": "fZr7ZSsgLFQC"
      },
      "source": [
        "Save all features in a dictionary and save it as Pickle file, namely \"**encoding_train**\" and \"**encoding_test**\""
      ]
    },
    {
      "cell_type": "code",
      "metadata": {
        "id": "LnhpiFgllB8e"
      },
      "source": [
        "# Create folder\n",
        "folder = '/content/data/Flickr8k/Pickle/'\n",
        "if not os.path.exists(folder):\n",
        "    os.mkdir(folder)\n",
        "\n",
        "# Save image embedding\n",
        "with open('/content/data/Flickr8k/Pickle/encoded_train_images.pkl', 'wb') as encoded_pickle:\n",
        "    dump(encoding_train, encoded_pickle)\n",
        "\n",
        "# Save image embedding\n",
        "with open('/content/data/Flickr8k/Pickle/encoded_test_images.pkl', 'wb') as encoded_pickle:\n",
        "    dump(encoding_test, encoded_pickle)"
      ],
      "execution_count": null,
      "outputs": []
    },
    {
      "cell_type": "markdown",
      "metadata": {
        "id": "9omDcmZiLVBr"
      },
      "source": [
        "## 5.2. Preprocessing Captions  \n",
        "As we predict the caption **word by word**, we need to encode each word into a fixed size vector"
      ]
    },
    {
      "cell_type": "markdown",
      "metadata": {
        "id": "tl3fXRFvMReH"
      },
      "source": [
        "The first step is loading the captions into a list \"**train_captions**\""
      ]
    },
    {
      "cell_type": "code",
      "metadata": {
        "colab": {
          "base_uri": "https://localhost:8080/"
        },
        "id": "zSVwKkzsCmRj",
        "outputId": "74e3d89c-955d-4b02-f370-6c0bb2e1b349"
      },
      "source": [
        "# Create list of training captions\n",
        "train_captions = []\n",
        "for key, val in train_descriptions.items():\n",
        "    # As 1 picture can have more than 1 caption\n",
        "    for cap in val:\n",
        "        train_captions.append(cap)\n",
        "\n",
        "print(len(train_captions))"
      ],
      "execution_count": null,
      "outputs": [
        {
          "output_type": "stream",
          "text": [
            "30000\n"
          ],
          "name": "stdout"
        }
      ]
    },
    {
      "cell_type": "markdown",
      "metadata": {
        "id": "9CSjhumHM8aX"
      },
      "source": [
        "We don't want to take words that rarely appear in our 30,000 sized dataset. So we only take words that appear no smaller than 10 times."
      ]
    },
    {
      "cell_type": "code",
      "metadata": {
        "colab": {
          "base_uri": "https://localhost:8080/"
        },
        "id": "nLZlk9e2Dpep",
        "outputId": "3b509e3f-1d78-484f-d7dc-6397b88379a8"
      },
      "source": [
        "# Take words appearing more than 10 times\n",
        "word_count_threshold = 10\n",
        "word_count = {}\n",
        "for cap in train_captions:\n",
        "    for w in cap.split(' '):\n",
        "        # Increase number of word counted\n",
        "        word_count[w] = word_count.get(w, 0) + 1\n",
        "\n",
        "vocab = [w for w in word_count if word_count[w] >= word_count_threshold]\n",
        "print('preprocess words {} -> {}'.format(len(word_count), len(vocab)))"
      ],
      "execution_count": null,
      "outputs": [
        {
          "output_type": "stream",
          "text": [
            "preprocess words 7578 -> 1651\n"
          ],
          "name": "stdout"
        }
      ]
    },
    {
      "cell_type": "markdown",
      "metadata": {
        "id": "LP-7rxvVNcS7"
      },
      "source": [
        "A dictionary that keeps words' indice and vice versa"
      ]
    },
    {
      "cell_type": "code",
      "metadata": {
        "id": "POdOTYSpF49B"
      },
      "source": [
        "# Save word's index\n",
        "idx_to_word = {}\n",
        "word_to_idx = {}\n",
        "idx = 1\n",
        "\n",
        "for w in vocab:\n",
        "    idx_to_word[idx] = w\n",
        "    word_to_idx[w] = idx\n",
        "    idx += 1"
      ],
      "execution_count": null,
      "outputs": []
    },
    {
      "cell_type": "markdown",
      "metadata": {
        "id": "yCybVcBSNpMb"
      },
      "source": [
        "Not only images' array need to be converted into a fixed sized vector, but also our captions' array. As the length of each sequence are different, we need to pad these so that their length will be equal to the longest sequence. Therefore, we add 1 to our \"**vocab_size**\""
      ]
    },
    {
      "cell_type": "code",
      "metadata": {
        "id": "AOIVCiViGn6e"
      },
      "source": [
        "# Add padding word\n",
        "vocab_size = len(idx_to_word) + 1"
      ],
      "execution_count": null,
      "outputs": []
    },
    {
      "cell_type": "markdown",
      "metadata": {
        "id": "Fn5TJlBdPFpZ"
      },
      "source": [
        "Calculate the maximum length of a caption"
      ]
    },
    {
      "cell_type": "code",
      "metadata": {
        "colab": {
          "base_uri": "https://localhost:8080/"
        },
        "id": "rTFSZYf5Gu3O",
        "outputId": "b47ba5f4-7ec4-4c4e-9121-5f54e16e83e5"
      },
      "source": [
        "# Convert a dictionary of clean descriptions to a list of descriptions\n",
        "def to_lines(descriptions):\n",
        "    desc = list()\n",
        "    for key in descriptions.keys():\n",
        "        [desc.append(d) for d in descriptions[key]]\n",
        "    return desc\n",
        "\n",
        "# Calculate the length of the longest description\n",
        "def max_length(descriptions):\n",
        "    lines = to_lines(descriptions)\n",
        "    max_length = 0\n",
        "    for sen in lines:\n",
        "        length = len(sen.split())\n",
        "        if (length > max_length):\n",
        "            max_length = length\n",
        "    return max_length\n",
        "\n",
        "max_length = max_length(train_descriptions)\n",
        "print('Longest description length: ', max_length)"
      ],
      "execution_count": null,
      "outputs": [
        {
          "output_type": "stream",
          "text": [
            "Longest description length:  34\n"
          ],
          "name": "stdout"
        }
      ]
    },
    {
      "cell_type": "markdown",
      "metadata": {
        "id": "w7auzHjwPKsn"
      },
      "source": [
        "# 6. Data Preparation using Generator Function  \n",
        "Before continue following the code, I highly recommend you check out [this blog](https://towardsdatascience.com/image-captioning-with-keras-teaching-computers-to-describe-pictures-c88a46a311b8) to have a gasp of what is going on at this step."
      ]
    },
    {
      "cell_type": "code",
      "metadata": {
        "id": "hymk2ZKSJFn5"
      },
      "source": [
        "# data generator for training\n",
        "def data_generator(descriptions, photos, word_to_idx, max_length, num_photos_per_batch):\n",
        "    X1, X2, y = list(), list(), list()\n",
        "    n = 0\n",
        "    # Loop for ever over images\n",
        "    while True:\n",
        "        for key, desc_list in descriptions.items():\n",
        "            n += 1\n",
        "            # Retrieve photo's features\n",
        "            photo = photos[key + '.jpg']\n",
        "            for desc in desc_list:\n",
        "                # Encode the sequence\n",
        "                seq = [word_to_idx[word] for word in desc.split() if word in word_to_idx]\n",
        "                # Split one sequence into multiple X, y pairs\n",
        "                for i in range(1, len(seq)):\n",
        "                    # Split into input and output pair\n",
        "                    in_seq, out_seq = seq[:i], seq[i]\n",
        "                    # Pad input sequence to same length\n",
        "                    in_seq = pad_sequences([in_seq], maxlen=max_length)[0]\n",
        "                    # Encode output sequence\n",
        "                    out_seq = to_categorical([out_seq], num_classes=vocab_size)[0]\n",
        "                    \n",
        "                    X1.append(photo)\n",
        "                    X2.append(in_seq)\n",
        "                    y.append(out_seq)\n",
        "            # Yield the batch data\n",
        "            if n == num_photos_per_batch:\n",
        "                yield [np.array(X1), np.array(X2)], np.array(y)\n",
        "                X1, X2, y = list(), list(), list()\n",
        "                n = 0"
      ],
      "execution_count": null,
      "outputs": []
    },
    {
      "cell_type": "markdown",
      "metadata": {
        "id": "YGx-mHxfTs8B"
      },
      "source": [
        "# 7. Word Embeddings\n",
        "Pre-trained GloVe model is used for word embedding (size: (200,)). We just need to load it from .txt file"
      ]
    },
    {
      "cell_type": "code",
      "metadata": {
        "colab": {
          "base_uri": "https://localhost:8080/",
          "height": 84,
          "referenced_widgets": [
            "3e8d9460e5084688a9e6d3b629a3ae2b",
            "6d96f6d8494442e3b20d605360216766",
            "28ec0caf9f8546afa5f8a73309dc5fb8",
            "2ea826c0c2f3435aa36efd403a06a496",
            "5ca67bc9c6854d38a0e3f06032c61a48",
            "10587c5c748b4a5cbf68925738e0166b",
            "ce285c5a5d70461188a7f3a2cec6898b",
            "9d22d16a7dc349a196e9e7a9d133da5e"
          ]
        },
        "id": "U7FLoNP8r6ue",
        "outputId": "75540245-d296-46a8-be26-061f79d3e6c2"
      },
      "source": [
        "# Load GloVe model\n",
        "embedding_index = {}\n",
        "f = open('/content/data/glove.6B/glove.6B.200d.txt', encoding='utf-8')\n",
        "\n",
        "for line in tqdm(f):\n",
        "    values = line.split()\n",
        "    word = values[0]\n",
        "    co_effs = np.asarray(values[1:], dtype='float32')\n",
        "    embedding_index[word] = co_effs\n",
        "\n",
        "f.close()\n",
        "print('Found {} word vectors'.format(len(embedding_index)))"
      ],
      "execution_count": null,
      "outputs": [
        {
          "output_type": "display_data",
          "data": {
            "application/vnd.jupyter.widget-view+json": {
              "model_id": "3e8d9460e5084688a9e6d3b629a3ae2b",
              "version_minor": 0,
              "version_major": 2
            },
            "text/plain": [
              "HBox(children=(FloatProgress(value=1.0, bar_style='info', max=1.0), HTML(value='')))"
            ]
          },
          "metadata": {
            "tags": []
          }
        },
        {
          "output_type": "stream",
          "text": [
            "\n",
            "Found 400000 word vectors\n"
          ],
          "name": "stdout"
        }
      ]
    },
    {
      "cell_type": "code",
      "metadata": {
        "colab": {
          "base_uri": "https://localhost:8080/"
        },
        "id": "CPcq_-fpsnOY",
        "outputId": "7fbafa72-f918-4623-8c81-b1dba1044601"
      },
      "source": [
        "embedding_index['the']"
      ],
      "execution_count": null,
      "outputs": [
        {
          "output_type": "execute_result",
          "data": {
            "text/plain": [
              "array([-7.1549e-02,  9.3459e-02,  2.3738e-02, -9.0339e-02,  5.6123e-02,\n",
              "        3.2547e-01, -3.9796e-01, -9.2139e-02,  6.1181e-02, -1.8950e-01,\n",
              "        1.3061e-01,  1.4349e-01,  1.1479e-02,  3.8158e-01,  5.4030e-01,\n",
              "       -1.4088e-01,  2.4315e-01,  2.3036e-01, -5.5339e-01,  4.8154e-02,\n",
              "        4.5662e-01,  3.2338e+00,  2.0199e-02,  4.9019e-02, -1.4132e-02,\n",
              "        7.6017e-02, -1.1527e-01,  2.0060e-01, -7.7657e-02,  2.4328e-01,\n",
              "        1.6368e-01, -3.4118e-01, -6.6070e-02,  1.0152e-01,  3.8232e-02,\n",
              "       -1.7668e-01, -8.8153e-01, -3.3895e-01, -3.5481e-02, -5.5095e-01,\n",
              "       -1.6899e-02, -4.3982e-01,  3.9004e-02,  4.0447e-01, -2.5880e-01,\n",
              "        6.4594e-01,  2.6641e-01,  2.8009e-01, -2.4625e-02,  6.3302e-01,\n",
              "       -3.1700e-01,  1.0271e-01,  3.0886e-01,  9.7792e-02, -3.8227e-01,\n",
              "        8.6552e-02,  4.7075e-02,  2.3511e-01, -3.2127e-01, -2.8538e-01,\n",
              "        1.6670e-01, -4.9707e-03, -6.2714e-01, -2.4904e-01,  2.9713e-01,\n",
              "        1.4379e-01, -1.2325e-01, -5.8178e-02, -1.0290e-03, -8.2126e-02,\n",
              "        3.6935e-01, -5.8442e-04,  3.4286e-01,  2.8426e-01, -6.8599e-02,\n",
              "        6.5747e-01, -2.9087e-02,  1.6184e-01,  7.3672e-02, -3.0343e-01,\n",
              "        9.5733e-02, -5.2860e-01, -2.2898e-01,  6.4079e-02,  1.5218e-02,\n",
              "        3.4921e-01, -4.3960e-01, -4.3983e-01,  7.7515e-01, -8.7767e-01,\n",
              "       -8.7504e-02,  3.9598e-01,  6.2362e-01, -2.6211e-01, -3.0539e-01,\n",
              "       -2.2964e-02,  3.0567e-01,  6.7660e-02,  1.5383e-01, -1.1211e-01,\n",
              "       -9.1540e-02,  8.2562e-02,  1.6897e-01, -3.2952e-02, -2.8775e-01,\n",
              "       -2.2320e-01, -9.0426e-02,  1.2407e+00, -1.8244e-01, -7.5219e-03,\n",
              "       -4.1388e-02, -1.1083e-02,  7.8186e-02,  3.8511e-01,  2.3334e-01,\n",
              "        1.4414e-01, -9.1070e-04, -2.6388e-01, -2.0481e-01,  1.0099e-01,\n",
              "        1.4076e-01,  2.8834e-01, -4.5429e-02,  3.7247e-01,  1.3645e-01,\n",
              "       -6.7457e-01,  2.2786e-01,  1.2599e-01,  2.9091e-02,  3.0428e-02,\n",
              "       -1.3028e-01,  1.9408e-01,  4.9014e-01, -3.9121e-01, -7.5952e-02,\n",
              "        7.4731e-02,  1.8902e-01, -1.6922e-01, -2.6019e-01, -3.9771e-02,\n",
              "       -2.4153e-01,  1.0875e-01,  3.0434e-01,  3.6009e-02,  1.4264e+00,\n",
              "        1.2759e-01, -7.3811e-02, -2.0418e-01,  8.0016e-03,  1.5381e-01,\n",
              "        2.0223e-01,  2.8274e-01,  9.6206e-02, -3.3634e-01,  5.0983e-01,\n",
              "        3.2625e-01, -2.6535e-01,  3.7400e-01, -3.0388e-01, -4.0033e-01,\n",
              "       -4.2910e-02, -6.7897e-02, -2.9332e-01,  1.0978e-01, -4.5365e-02,\n",
              "        2.3222e-01, -3.1134e-01, -2.8983e-01, -6.6687e-01,  5.3097e-01,\n",
              "        1.9461e-01,  3.6670e-01,  2.6185e-01, -6.5187e-01,  1.0266e-01,\n",
              "        1.1363e-01, -1.2953e-01, -6.8246e-01, -1.8751e-01,  1.4760e-01,\n",
              "        1.0765e+00, -2.2908e-01, -9.3435e-03, -2.0651e-01, -3.5225e-01,\n",
              "       -2.6720e-01, -3.4307e-03,  2.5906e-01,  2.1759e-01,  6.6158e-01,\n",
              "        1.2180e-01,  1.9957e-01, -2.0303e-01,  3.4474e-01, -2.4328e-01,\n",
              "        1.3139e-01, -8.8767e-03,  3.3617e-01,  3.0591e-02,  2.5577e-01],\n",
              "      dtype=float32)"
            ]
          },
          "metadata": {
            "tags": []
          },
          "execution_count": 32
        }
      ]
    },
    {
      "cell_type": "markdown",
      "metadata": {
        "id": "V9yVsUe_V0yK"
      },
      "source": [
        "For all the 1652 unique words in our vocabulary, we create an embedding matrix which will be loaded into the model for training  \n",
        "To understand more about **word embeddings**, please check out this [link](https://www.youtube.com/watch?v=pO_6Jk0QtKw). This man has an incredible way to explain stuff."
      ]
    },
    {
      "cell_type": "code",
      "metadata": {
        "id": "KsoEkI4qtiNQ"
      },
      "source": [
        "# Get dimension of embedding\n",
        "embedding_dims = embedding_index['the'].shape[0]\n",
        "\n",
        "# Get 200-dim dense vector for each of the 10000 words in vocab\n",
        "embedding_matrix = np.zeros(shape=(vocab_size, embedding_dims))\n",
        "\n",
        "for word, idx in word_to_idx.items():\n",
        "    embedding_vector = embedding_index.get(word)\n",
        "    if embedding_vector is not None:\n",
        "        # Words not found in the embedding index will be all zeros\n",
        "        embedding_matrix[idx] = embedding_vector"
      ],
      "execution_count": null,
      "outputs": []
    },
    {
      "cell_type": "code",
      "metadata": {
        "colab": {
          "base_uri": "https://localhost:8080/"
        },
        "id": "If_yTU5pu4tR",
        "outputId": "4d8f0e5f-9550-4441-a318-694e789f50b5"
      },
      "source": [
        "embedding_matrix.shape"
      ],
      "execution_count": null,
      "outputs": [
        {
          "output_type": "execute_result",
          "data": {
            "text/plain": [
              "(1652, 200)"
            ]
          },
          "metadata": {
            "tags": []
          },
          "execution_count": 34
        }
      ]
    },
    {
      "cell_type": "markdown",
      "metadata": {
        "id": "vCKlQL2OW8iS"
      },
      "source": [
        "# 8. Define Model"
      ]
    },
    {
      "cell_type": "code",
      "metadata": {
        "id": "Os0HDGuCu799"
      },
      "source": [
        "# Create model\n",
        "inputs1 = Input(shape=(2048,))\n",
        "fe1 = Dropout(0.5)(inputs1)\n",
        "fe2 = Dense(256, activation='relu')(fe1)\n",
        "\n",
        "inputs2 = Input(shape=(max_length,))\n",
        "se1 = Embedding(vocab_size, embedding_dims, mask_zero=True)(inputs2)\n",
        "se2 = Dropout(0.5)(se1)\n",
        "se3 = LSTM(256)(se2)\n",
        "decoder1 = add([fe2, se3])\n",
        "decoder2 = Dense(256, activation='relu')(decoder1)\n",
        "\n",
        "outputs = Dense(vocab_size, activation='softmax')(decoder2)\n",
        "model = Model(inputs=[inputs1, inputs2], outputs=outputs)"
      ],
      "execution_count": null,
      "outputs": []
    },
    {
      "cell_type": "code",
      "metadata": {
        "colab": {
          "base_uri": "https://localhost:8080/"
        },
        "id": "3xFAIgIiwNp_",
        "outputId": "a2eb9e10-9853-486f-8fe2-a8de83bf432a"
      },
      "source": [
        "model.summary()"
      ],
      "execution_count": null,
      "outputs": [
        {
          "output_type": "stream",
          "text": [
            "Model: \"model_1\"\n",
            "__________________________________________________________________________________________________\n",
            "Layer (type)                    Output Shape         Param #     Connected to                     \n",
            "==================================================================================================\n",
            "input_3 (InputLayer)            [(None, 34)]         0                                            \n",
            "__________________________________________________________________________________________________\n",
            "input_2 (InputLayer)            [(None, 2048)]       0                                            \n",
            "__________________________________________________________________________________________________\n",
            "embedding (Embedding)           (None, 34, 200)      330400      input_3[0][0]                    \n",
            "__________________________________________________________________________________________________\n",
            "dropout (Dropout)               (None, 2048)         0           input_2[0][0]                    \n",
            "__________________________________________________________________________________________________\n",
            "dropout_1 (Dropout)             (None, 34, 200)      0           embedding[0][0]                  \n",
            "__________________________________________________________________________________________________\n",
            "dense (Dense)                   (None, 256)          524544      dropout[0][0]                    \n",
            "__________________________________________________________________________________________________\n",
            "lstm (LSTM)                     (None, 256)          467968      dropout_1[0][0]                  \n",
            "__________________________________________________________________________________________________\n",
            "add (Add)                       (None, 256)          0           dense[0][0]                      \n",
            "                                                                 lstm[0][0]                       \n",
            "__________________________________________________________________________________________________\n",
            "dense_1 (Dense)                 (None, 256)          65792       add[0][0]                        \n",
            "__________________________________________________________________________________________________\n",
            "dense_2 (Dense)                 (None, 1652)         424564      dense_1[0][0]                    \n",
            "==================================================================================================\n",
            "Total params: 1,813,268\n",
            "Trainable params: 1,813,268\n",
            "Non-trainable params: 0\n",
            "__________________________________________________________________________________________________\n"
          ],
          "name": "stdout"
        }
      ]
    },
    {
      "cell_type": "code",
      "metadata": {
        "colab": {
          "base_uri": "https://localhost:8080/",
          "height": 751
        },
        "id": "XwGfCJSu9OKM",
        "outputId": "42206328-e9dd-48e2-e8c9-50d61d1ff02e"
      },
      "source": [
        "# Plot model\n",
        "img_model_path = '/content/drive/MyDrive/plot.png'\n",
        "plot_model(model, to_file=img_model_path, show_shapes=True)"
      ],
      "execution_count": null,
      "outputs": [
        {
          "output_type": "execute_result",
          "data": {
            "image/png": "[encoded data removed]",
            "text/plain": [
              "<IPython.core.display.Image object>"
            ]
          },
          "metadata": {
            "tags": []
          },
          "execution_count": 46
        }
      ]
    },
    {
      "cell_type": "markdown",
      "metadata": {
        "id": "HIDJlgqIX3HQ"
      },
      "source": [
        "Recall that we had created an embedding matrix from a pre-train GloVe model, so we don't need to train the Embedding layer anymore."
      ]
    },
    {
      "cell_type": "code",
      "metadata": {
        "id": "jIXP2i7swRF-"
      },
      "source": [
        "# Layer 2 uses GloVe model so we don't need to train it\n",
        "model.layers[2].set_weights([embedding_matrix])\n",
        "model.layers[2].trainable = False"
      ],
      "execution_count": null,
      "outputs": []
    },
    {
      "cell_type": "code",
      "metadata": {
        "id": "s4V5Mb8Fwf4d"
      },
      "source": [
        "model.compile(loss='categorical_crossentropy', optimizer='adam')"
      ],
      "execution_count": null,
      "outputs": []
    },
    {
      "cell_type": "markdown",
      "metadata": {
        "id": "FGPnx9CTYTk8"
      },
      "source": [
        "Here we define some hyper-parameter for training"
      ]
    },
    {
      "cell_type": "code",
      "metadata": {
        "id": "LOQ7KOIlwlMD"
      },
      "source": [
        "model.optimizer.lr = 0.0001\n",
        "epochs = 15\n",
        "number_pics_per_batch = 6\n",
        "steps = len(train_descriptions) // number_pics_per_batch"
      ],
      "execution_count": null,
      "outputs": []
    },
    {
      "cell_type": "markdown",
      "metadata": {
        "id": "y3YB-YLXYnq5"
      },
      "source": [
        "# 8. Training  \n",
        "Train this way as it will cost us much less GPU resource than regular **fit()** function."
      ]
    },
    {
      "cell_type": "code",
      "metadata": {
        "colab": {
          "base_uri": "https://localhost:8080/"
        },
        "id": "gifbpvXbw9rq",
        "outputId": "e23d3f5e-6a02-4587-ef54-688f16ac1b40"
      },
      "source": [
        "for i in range(epochs): \n",
        "    generator = data_generator(train_descriptions, encoding_train, word_to_idx, max_length, number_pics_per_batch)\n",
        "    model.fit_generator(generator, epochs=1, steps_per_epoch=steps, verbose=1)\n",
        "    model.save('/content/drive/MyDrive/models/model_' + str(i) + '.h5')"
      ],
      "execution_count": null,
      "outputs": [
        {
          "output_type": "stream",
          "text": [
            "/usr/local/lib/python3.7/dist-packages/keras/engine/training.py:1915: UserWarning: `Model.fit_generator` is deprecated and will be removed in a future version. Please use `Model.fit`, which supports generators.\n",
            "  warnings.warn('`Model.fit_generator` is deprecated and '\n"
          ],
          "name": "stderr"
        },
        {
          "output_type": "stream",
          "text": [
            "1000/1000 [==============================] - 164s 148ms/step - loss: 5.5680\n"
          ],
          "name": "stdout"
        },
        {
          "output_type": "stream",
          "text": [
            "/usr/local/lib/python3.7/dist-packages/keras/utils/generic_utils.py:497: CustomMaskWarning: Custom mask layers require a config and must override get_config. When loading, the custom mask layer must be passed to the custom_objects argument.\n",
            "  category=CustomMaskWarning)\n"
          ],
          "name": "stderr"
        },
        {
          "output_type": "stream",
          "text": [
            "1000/1000 [==============================] - 147s 147ms/step - loss: 4.4192\n",
            "1000/1000 [==============================] - 149s 148ms/step - loss: 4.0725\n",
            "1000/1000 [==============================] - 149s 149ms/step - loss: 3.8758\n",
            "1000/1000 [==============================] - 148s 148ms/step - loss: 3.7408\n",
            "1000/1000 [==============================] - 148s 148ms/step - loss: 3.6368\n",
            "1000/1000 [==============================] - 148s 148ms/step - loss: 3.5531\n",
            "1000/1000 [==============================] - 148s 148ms/step - loss: 3.4836\n",
            "1000/1000 [==============================] - 147s 147ms/step - loss: 3.4240\n",
            "1000/1000 [==============================] - 148s 148ms/step - loss: 3.3723\n",
            "1000/1000 [==============================] - 147s 147ms/step - loss: 3.3267\n",
            "1000/1000 [==============================] - 147s 147ms/step - loss: 3.2856\n",
            "1000/1000 [==============================] - 148s 148ms/step - loss: 3.2468\n",
            "1000/1000 [==============================] - 147s 147ms/step - loss: 3.2126\n",
            "1000/1000 [==============================] - 148s 148ms/step - loss: 3.1815\n"
          ],
          "name": "stdout"
        }
      ]
    },
    {
      "cell_type": "markdown",
      "metadata": {
        "id": "sFBK1sy8Yu5C"
      },
      "source": [
        "# 9. Testing on test dataset"
      ]
    },
    {
      "cell_type": "markdown",
      "metadata": {
        "id": "h1Wq6i6_dqOI"
      },
      "source": [
        "Load model having best result"
      ]
    },
    {
      "cell_type": "code",
      "metadata": {
        "id": "NOWCRJC68qre"
      },
      "source": [
        "best_model = load_model('/content/drive/MyDrive/models/model_14.h5')"
      ],
      "execution_count": null,
      "outputs": []
    },
    {
      "cell_type": "code",
      "metadata": {
        "id": "-B9m-PLp9baF"
      },
      "source": [
        "with open('/content/data/Flickr8k/Pickle/encoded_test_images.pkl', 'rb') as encoded_pickle:\n",
        "    encoding_test = load(encoded_pickle)"
      ],
      "execution_count": null,
      "outputs": []
    },
    {
      "cell_type": "markdown",
      "metadata": {
        "id": "sUseq0Apbv2D"
      },
      "source": [
        "As the model generates a 1652-long vector, which is a probability distribution across all the words in the vocabulary. For this reason, we **greedily** select the word with the maximum probability, given the feature vector and partial caption.  \n",
        "This image describes this step:\n",
        "![images](https://miro.medium.com/max/2000/1*isNHnFwkJQFcX3yEy2iTDg.jpeg)  \n",
        "This is called as **Maximum Likelihood Estimation (MLE)** i.e. we select that word which is most likely according to the model for the given input. And sometimes this method is called as **Greedy Search**, as we greedily select the word with maximum probability."
      ]
    },
    {
      "cell_type": "code",
      "metadata": {
        "id": "KzQuuGmx9yop"
      },
      "source": [
        "def greedy_search(photo):\n",
        "    start = 'startseq'\n",
        "    end = 'endseq'\n",
        "    for i in range(max_length):\n",
        "        sequence = [word_to_idx[w] for w in start.split() if w in word_to_idx]\n",
        "        sequence = pad_sequences([sequence], maxlen=max_length)\n",
        "        yhat = best_model.predict([photo, sequence], verbose=0)\n",
        "        yhat = np.argmax(yhat)\n",
        "        word = idx_to_word[yhat]\n",
        "        start += ' ' + word\n",
        "        if word == end:\n",
        "            break\n",
        "    \n",
        "    final = start.split()\n",
        "    # Remove startseq and endseq token\n",
        "    final = final[1:-1]\n",
        "    final = ' '.join(final)\n",
        "    return final"
      ],
      "execution_count": null,
      "outputs": []
    },
    {
      "cell_type": "markdown",
      "metadata": {
        "id": "HjtbEsV7ea1W"
      },
      "source": [
        "Let's test it"
      ]
    },
    {
      "cell_type": "code",
      "metadata": {
        "colab": {
          "base_uri": "https://localhost:8080/",
          "height": 287
        },
        "id": "F2l1JtR6AHCQ",
        "outputId": "83adbcc5-4694-45c3-af0a-7cd25bdd5d02"
      },
      "source": [
        "z = random.randint(0, len(encoding_test))\n",
        "pic = list(encoding_test.keys())[z]\n",
        "image = encoding_test[pic].reshape((1, 2048))\n",
        "x = plt.imread(images_path + '/' + pic)\n",
        "plt.imshow(x)\n",
        "print(greedy_search(image))"
      ],
      "execution_count": null,
      "outputs": [
        {
          "output_type": "stream",
          "text": [
            "man in red shirt is standing on the edge of snowy mountain\n"
          ],
          "name": "stdout"
        },
        {
          "output_type": "display_data",
          "data": {
            "image/png": "[encoded data removed]",
            "text/plain": [
              "<Figure size 432x288 with 1 Axes>"
            ]
          },
          "metadata": {
            "tags": [],
            "needs_background": "light"
          }
        }
      ]
    }
  ]
}