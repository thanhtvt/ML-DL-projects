{
  "nbformat": 4,
  "nbformat_minor": 0,
  "metadata": {
    "colab": {
      "name": "digit_recognition_Gradio.ipynb",
      "provenance": []
    },
    "kernelspec": {
      "name": "python3",
      "display_name": "Python 3"
    },
    "language_info": {
      "name": "python"
    },
    "accelerator": "GPU"
  },
  "cells": [
    {
      "cell_type": "code",
      "metadata": {
        "id": "W9so-77mMfOH"
      },
      "source": [
        "!pip install -q gradio"
      ],
      "execution_count": 1,
      "outputs": []
    },
    {
      "cell_type": "code",
      "metadata": {
        "id": "AvOYWdPbMxjC"
      },
      "source": [
        "import gradio as gr\n",
        "from keras.models import load_model\n",
        "from keras.preprocessing.image import img_to_array"
      ],
      "execution_count": 2,
      "outputs": []
    },
    {
      "cell_type": "code",
      "metadata": {
        "id": "KP0qrOMcNGzE"
      },
      "source": [
        "model_path = '/content/drive/MyDrive/model/mnist.h5'\n",
        "\n",
        "model = load_model(model_path)"
      ],
      "execution_count": 3,
      "outputs": []
    },
    {
      "cell_type": "code",
      "metadata": {
        "id": "MSEQ84-JNWt7"
      },
      "source": [
        "def predict_digit(img):\n",
        "    # Convert to array\n",
        "    img = img_to_array(img)\n",
        "\n",
        "    # Reshape to fit model input\n",
        "    img = img.reshape(1, 28, 28, 1)\n",
        "\n",
        "    # Get prediction\n",
        "    prediction = model.predict(img).tolist()[0]\n",
        "    return {str(i): prediction[i] for i in range(10)}"
      ],
      "execution_count": 4,
      "outputs": []
    },
    {
      "cell_type": "code",
      "metadata": {
        "colab": {
          "base_uri": "https://localhost:8080/",
          "height": 611
        },
        "id": "NOA88rE0NjNb",
        "outputId": "dab62f7f-0955-4378-a43f-9f034d3c15de"
      },
      "source": [
        "label = gr.outputs.Label(num_top_classes=3)\n",
        "\n",
        "iface = gr.Interface(fn=predict_digit, inputs='sketchpad', outputs=label, live=True, capture_session=True)\n",
        "iface.launch(debug=True)"
      ],
      "execution_count": null,
      "outputs": [
        {
          "output_type": "stream",
          "text": [
            "Colab notebook detected. This cell will run indefinitely so that you can see errors and logs. To turn off, set debug=False in launch().\n",
            "This share link will expire in 24 hours. If you need a permanent link, visit: https://gradio.app/introducing-hosted (NEW!)\n",
            "Running on External URL: https://44174.gradio.app\n",
            "Interface loading below...\n"
          ],
          "name": "stdout"
        },
        {
          "output_type": "display_data",
          "data": {
            "text/html": [
              "\n",
              "        <iframe\n",
              "            width=\"900\"\n",
              "            height=\"500\"\n",
              "            src=\"https://44174.gradio.app\"\n",
              "            frameborder=\"0\"\n",
              "            allowfullscreen\n",
              "        ></iframe>\n",
              "        "
            ],
            "text/plain": [
              "<IPython.lib.display.IFrame at 0x7f771faec450>"
            ]
          },
          "metadata": {
            "tags": []
          }
        }
      ]
    }
  ]
}